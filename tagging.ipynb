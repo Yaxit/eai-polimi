{
 "cells": [
  {
   "cell_type": "markdown",
   "metadata": {},
   "source": [
    "# Data Tagging\n",
    "\n",
    "This notebook shows how to use tagging when acquiring data in order to create datasets.\n",
    "\n",
    "Tags are used to manually annotate sensor data during the acquisition.\n",
    "\n",
    "It is possible to customize labels used for data tagging.\n",
    "\n",
    "A single datalog acquisition may contain several time intervals that are associated with different tags: we then need to cut&paste homogeneous segments in order to create datasets for each class of interest."
   ]
  },
  {
   "cell_type": "code",
   "execution_count": 3,
   "metadata": {},
   "outputs": [
    {
     "name": "stdout",
     "output_type": "stream",
     "text": [
      "['fast', 'slow']\n"
     ]
    }
   ],
   "source": [
    "import warnings\n",
    "warnings.filterwarnings(\"ignore\")\n",
    "from HSD.HSDatalog import HSDatalog\n",
    "import os\n",
    "\n",
    "acq = \"20220425_17_14_41\"\n",
    "acq_folder = os.path.join(os.getcwd(),\"datalogs\",acq)\n",
    "hsd = HSDatalog(acq_folder)\n",
    "label_list = hsd.get_acquisition_label_classes() # let's print the labels used in this acquisition\n",
    "print(label_list)"
   ]
  },
  {
   "cell_type": "markdown",
   "metadata": {},
   "source": [
    "NOTE: ```hsd.get_sensor_plot()``` does not seem to work when there is only one interval for each tag."
   ]
  },
  {
   "cell_type": "code",
   "execution_count": null,
   "metadata": {},
   "outputs": [],
   "source": [
    "sensor_name = \"ISM330DHCX\"\n",
    "sensor_type = \"ACC\"\n",
    "hsd.get_sensor_plot(sensor_name, sensor_type, label='fast')\n",
    "hsd.get_sensor_plot(sensor_name, sensor_type, label='slow')"
   ]
  },
  {
   "cell_type": "code",
   "execution_count": null,
   "metadata": {},
   "outputs": [],
   "source": [
    "hsd.get_time_tags()"
   ]
  },
  {
   "cell_type": "code",
   "execution_count": null,
   "metadata": {},
   "outputs": [],
   "source": [
    "hsd.get_data_stream_tags(sensor_name,sensor_type,0,-1)"
   ]
  }
 ],
 "metadata": {
  "interpreter": {
   "hash": "0adcc2737ebf6a4a119f135174df96668767fca1ef1112612db5ecadf2b6d608"
  },
  "kernelspec": {
   "display_name": "Python 3.8.3 64-bit",
   "language": "python",
   "name": "python3"
  },
  "language_info": {
   "codemirror_mode": {
    "name": "ipython",
    "version": 3
   },
   "file_extension": ".py",
   "mimetype": "text/x-python",
   "name": "python",
   "nbconvert_exporter": "python",
   "pygments_lexer": "ipython3",
   "version": "3.8.3"
  },
  "orig_nbformat": 4
 },
 "nbformat": 4,
 "nbformat_minor": 2
}
