{
 "cells": [
  {
   "cell_type": "markdown",
   "metadata": {},
   "source": [
    "# Datalogging process\n",
    "\n",
    "There are multiple ways to log data with STWIN boards, namely:\n",
    "\n",
    "\n",
    "1. storing sensor data on uSD card on the board (this process can be controlled through Bluetooth by the ST BLE Sensor app)\n",
    "2. streaming data over USB (this process is controlled by the connected PC and requires USB cable)\n",
    "\n",
    "In our tests, we are going to use method #2.\n",
    "\n",
    "USB data streaming can be controlled by the PC in different ways:\n",
    "\n",
    "* via command line interface (CLI)\n",
    "* from a Jupyter notebook or Python script thanks to the Python HSD_link module\n",
    "* from a Visual Studio Code extension\n",
    "* directly from a web browser\n",
    "\n",
    "The first three methods require that a dedicated library is installed in the system (libhs_datalog.so in Linux or .dll in Windows).\n",
    "\n",
    "*Before launching acquisitions, make sure the STWIN board is connected to a USB port.* \n",
    "\n",
    "## Configuration files\n",
    "A sensor data acquisition must specify which sensors to capture and, for each of them, set relevant parameters such as full scale (FS) and output data rate (ODR) for an accelerometer.\n",
    "\n",
    "This information is stored in JSON format in the DeviceConfig.json file. Example configuration files are available under ```/STWIN_config_examples``` folder.\n",
    "\n",
    "## CLI\n",
    "\n",
    "    cd bin\n",
    "    ./cli_example\n",
    "\n",
    "## Python\n",
    "\n"
   ]
  },
  {
   "cell_type": "code",
   "execution_count": null,
   "metadata": {},
   "outputs": [],
   "source": []
  }
 ],
 "metadata": {
  "interpreter": {
   "hash": "0adcc2737ebf6a4a119f135174df96668767fca1ef1112612db5ecadf2b6d608"
  },
  "kernelspec": {
   "display_name": "Python 3.8.3 64-bit",
   "language": "python",
   "name": "python3"
  },
  "language_info": {
   "name": "python",
   "version": "3.8.3"
  },
  "orig_nbformat": 4
 },
 "nbformat": 4,
 "nbformat_minor": 2
}
