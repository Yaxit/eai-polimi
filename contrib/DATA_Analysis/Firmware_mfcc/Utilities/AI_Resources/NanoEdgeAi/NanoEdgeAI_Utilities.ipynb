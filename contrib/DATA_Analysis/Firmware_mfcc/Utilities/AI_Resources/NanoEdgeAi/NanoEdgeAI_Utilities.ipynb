{
 "cells": [
  {
   "cell_type": "code",
   "execution_count": 1,
   "metadata": {},
   "outputs": [],
   "source": [
    "#                    Copyright (c) 2020 STMicroelectronics.\n",
    "#                              All rights reserved,\n",
    "\n",
    "#    This software component is licensed by ST under BSD-3-Clause license,\n",
    "#    the \"License\" You may not use this file except in compliance with the,\n",
    "#    License. You may obtain a copy of the License at:,\n",
    "#                        https://opensource.org/licenses/BSD-3-Clause\""
   ]
  },
  {
   "cell_type": "markdown",
   "metadata": {},
   "source": [
    "# NanoEdge AI Utilities\n",
    "This script creates normal and abnormal segments for NanoEdge AI studio. These segments can be used to create a library for the given setup.\n",
    "\n",
    "In this notebook we provide code to take any given datalog from High-Speed Datalogger version 2.0.0 and convert it to Cartesiam complient segments. The converted data is saved as a csv file in the datalog folder.\n",
    "\n",
    "Another section is provided to combine the data for all the normal and abnormal conditions into single normal and abnormal segment files."
   ]
  },
  {
   "cell_type": "markdown",
   "metadata": {},
   "source": [
    "#### Import all the dependencies"
   ]
  },
  {
   "cell_type": "code",
   "execution_count": 2,
   "metadata": {},
   "outputs": [
    {
     "ename": "ModuleNotFoundError",
     "evalue": "No module named 'click'",
     "output_type": "error",
     "traceback": [
      "\u001b[0;31m---------------------------------------------------------------------------\u001b[0m",
      "\u001b[0;31mModuleNotFoundError\u001b[0m                       Traceback (most recent call last)",
      "\u001b[0;32m<ipython-input-2-9d5b50e8aaa5>\u001b[0m in \u001b[0;36m<module>\u001b[0;34m\u001b[0m\n\u001b[1;32m      1\u001b[0m \u001b[0;32mimport\u001b[0m \u001b[0msys\u001b[0m\u001b[0;34m,\u001b[0m \u001b[0mnumpy\u001b[0m \u001b[0;32mas\u001b[0m \u001b[0mnp\u001b[0m\u001b[0;34m\u001b[0m\u001b[0;34m\u001b[0m\u001b[0m\n\u001b[1;32m      2\u001b[0m \u001b[0msys\u001b[0m\u001b[0;34m.\u001b[0m\u001b[0mpath\u001b[0m\u001b[0;34m.\u001b[0m\u001b[0mappend\u001b[0m\u001b[0;34m(\u001b[0m\u001b[0;34m'../../Datalog/Python_SDK/'\u001b[0m\u001b[0;34m)\u001b[0m\u001b[0;34m\u001b[0m\u001b[0;34m\u001b[0m\u001b[0m\n\u001b[0;32m----> 3\u001b[0;31m \u001b[0;32mfrom\u001b[0m \u001b[0mHSD\u001b[0m\u001b[0;34m.\u001b[0m\u001b[0mHSDatalog\u001b[0m \u001b[0;32mimport\u001b[0m \u001b[0mHSDatalog\u001b[0m\u001b[0;34m\u001b[0m\u001b[0;34m\u001b[0m\u001b[0m\n\u001b[0m\u001b[1;32m      4\u001b[0m \u001b[0;32mfrom\u001b[0m \u001b[0mHSD_utils\u001b[0m\u001b[0;34m.\u001b[0m\u001b[0mconverters\u001b[0m \u001b[0;32mimport\u001b[0m \u001b[0mHSDatalogConverter\u001b[0m\u001b[0;34m\u001b[0m\u001b[0;34m\u001b[0m\u001b[0m\n",
      "\u001b[0;32m/mnt/c/Users/shahnawm/Downloads/FP-AI-MONITOR1_V1.0.0/Utilities/Datalog/Python_SDK/HSD/HSDatalog.py\u001b[0m in \u001b[0;36m<module>\u001b[0;34m\u001b[0m\n\u001b[1;32m     11\u001b[0m \u001b[0;32mimport\u001b[0m \u001b[0mos\u001b[0m\u001b[0;34m\u001b[0m\u001b[0;34m\u001b[0m\u001b[0m\n\u001b[1;32m     12\u001b[0m \u001b[0;32mimport\u001b[0m \u001b[0msys\u001b[0m\u001b[0;34m\u001b[0m\u001b[0;34m\u001b[0m\u001b[0m\n\u001b[0;32m---> 13\u001b[0;31m \u001b[0;32mimport\u001b[0m \u001b[0mclick\u001b[0m\u001b[0;34m\u001b[0m\u001b[0;34m\u001b[0m\u001b[0m\n\u001b[0m\u001b[1;32m     14\u001b[0m \u001b[0;32mimport\u001b[0m \u001b[0mmath\u001b[0m\u001b[0;34m\u001b[0m\u001b[0;34m\u001b[0m\u001b[0m\n\u001b[1;32m     15\u001b[0m \u001b[0;32mimport\u001b[0m \u001b[0mmatplotlib\u001b[0m\u001b[0;34m.\u001b[0m\u001b[0mpyplot\u001b[0m \u001b[0;32mas\u001b[0m \u001b[0mplt\u001b[0m\u001b[0;34m\u001b[0m\u001b[0;34m\u001b[0m\u001b[0m\n",
      "\u001b[0;31mModuleNotFoundError\u001b[0m: No module named 'click'"
     ]
    }
   ],
   "source": [
    "import sys, numpy as np\n",
    "sys.path.append('../../Datalog/Python_SDK/')\n",
    "from HSD.HSDatalog import HSDatalog\n",
    "from HSD_utils.converters import HSDatalogConverter"
   ]
  },
  {
   "cell_type": "markdown",
   "metadata": {},
   "source": [
    "#### defining all the required variables"
   ]
  },
  {
   "cell_type": "code",
   "execution_count": null,
   "metadata": {},
   "outputs": [],
   "source": [
    "# data information\n",
    "dataFolder = '../Datasets/HSD_Logged_Data/Fan12CM/'\n",
    "speeds = [1000, 1250, 1500]\n",
    "conditions = [ 'normal', 'clogged' ]\n",
    "\n",
    "# sensor information\n",
    "sensor_name = 'ISM330DHCX' # other choice is IIS3DWB\n",
    "sensor_name = 'IIS3DWB' # other choice is ISM330DHCX\n",
    "sensor_type = 'ACC'\n",
    "raw = True # if the raw samples are required (True) or sensitivity to be applied to get physical values (False)\n",
    "\n",
    "dataFolder = dataFolder + sensor_name + '/'\n",
    "\n",
    "if sensor_name == 'IIS3DWB':\n",
    "    # framing related variables\n",
    "    winLen = 4096\n",
    "    stride = 4096\n",
    "    offset = 2048\n",
    "else:\n",
    "    # framing related variables\n",
    "    winLen = 1024\n",
    "    stride = 1024\n",
    "    offset = 512    "
   ]
  },
  {
   "cell_type": "markdown",
   "metadata": {},
   "source": [
    "### Converting all the datalogs into cartesiam complient formats, i.e. framing and vectorizing"
   ]
  },
  {
   "cell_type": "code",
   "execution_count": null,
   "metadata": {},
   "outputs": [],
   "source": [
    "for cdn in conditions:\n",
    "    for spd in speeds:\n",
    "        acqDir = '{}/{}/{}RPM/'.format( dataFolder, cdn, spd )\n",
    "        print(acqDir)\n",
    "        # creating a high-speed datalog object for the given acquisition folder\n",
    "        hsd = HSDatalog( acquisition_folder = acqDir )\n",
    "        \n",
    "        # reading the data as dataframe\n",
    "        dataFrame = hsd.get_dataframe( sensor_name, sensor_type, sample_start = offset, raw_flag = raw )\n",
    "        \n",
    "        # converting to cartesiam complient frames\n",
    "        HSDatalogConverter.to_cartesiam_format( output_folder = acqDir, sensor_name = sensor_name,\n",
    "                                               df = dataFrame, signal_length = winLen, signal_increment = stride )"
   ]
  },
  {
   "cell_type": "markdown",
   "metadata": {},
   "source": [
    "### Combing all the normal and abnormal segments into single files"
   ]
  },
  {
   "cell_type": "code",
   "execution_count": null,
   "metadata": {},
   "outputs": [],
   "source": [
    "# initializing normal and abnormal data variables\n",
    "normalData = np.empty( ( 0, winLen * 3 ) ) \n",
    "abnormalData = np.empty( ( 0, winLen * 3 ) )\n",
    "\n",
    "# number of samples (if this many available otherwise all the segments used) to use from each acquisition\n",
    "numSamplesPerAcq = 50\n",
    "\n",
    "# combining data for all the speeds\n",
    "for spd in speeds:\n",
    "    \n",
    "    # read normal data for a given speed \n",
    "    spdNormData = np.genfromtxt( '{}/{}/{}RPM/{}_Cartesiam_segments_0.csv'.format( dataFolder, conditions[0], spd, sensor_name ), \n",
    "                                 delimiter = ',')[ :numSamplesPerAcq, : ]\n",
    "    # concatenating to the data for the other speeds\n",
    "    normalData = np.concatenate( ( normalData, spdNormData ) )\n",
    "    \n",
    "    # read normal data for a given speed\n",
    "    spdAbnormData = np.genfromtxt( '{}/{}/{}RPM/{}_Cartesiam_segments_0.csv'.format( dataFolder, conditions[0], spd, sensor_name ),\n",
    "                                   delimiter = ',' )[ :numSamplesPerAcq, : ]\n",
    "\n",
    "    # concatenating to the data for the other speeds\n",
    "    abnormalData = np.concatenate( ( abnormalData, spdAbnormData ) )\n",
    "    \n",
    "#     print(spdNormData)\n",
    "# saving the data in the form of segments.csv\n",
    "np.savetxt( '{}{}_WL{}_segments.csv'.format( dataFolder, conditions[0], winLen ), normalData, delimiter=',' )\n",
    "np.savetxt( '{}{}_WL{}_segments.csv'.format( dataFolder, conditions[1], winLen ), abnormalData, delimiter=',')"
   ]
  }
 ],
 "metadata": {
  "kernelspec": {
   "display_name": "Python 3",
   "language": "python",
   "name": "python3"
  },
  "language_info": {
   "codemirror_mode": {
    "name": "ipython",
    "version": 3
   },
   "file_extension": ".py",
   "mimetype": "text/x-python",
   "name": "python",
   "nbconvert_exporter": "python",
   "pygments_lexer": "ipython3",
   "version": "3.7.4"
  }
 },
 "nbformat": 4,
 "nbformat_minor": 2
}
